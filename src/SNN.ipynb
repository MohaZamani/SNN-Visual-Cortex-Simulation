{
 "cells": [
  {
   "cell_type": "markdown",
   "metadata": {},
   "source": [
    "## Import Libraries"
   ]
  },
  {
   "cell_type": "code",
   "execution_count": 4,
   "metadata": {},
   "outputs": [],
   "source": [
    "from matplotlib import pyplot as plt\n",
    "import torch\n",
    "import numpy as np\n",
    "import random\n",
    "from Util.Transformers import Conv2dFilter\n",
    "from Util.Pooling import MeanPooling\n",
    "from matplotlib.gridspec import GridSpec\n",
    "from Coding.Encoders import TTFSCoding, PoissonCoding\n",
    "from Util.Learning import Conv2dSTDP\n",
    "from Util.Dendrites import Conv2dDendriticInput, AveragePool2D\n",
    "from Util.Filters import DoGFilter, GaborFilter\n",
    "from Coding.Encoders import PoissonCoding\n",
    "from pymonntorch import Network, NeuronGroup, Recorder, EventRecorder, SynapseGroup\n",
    "from Util.Synapse import DDFSynapse\n",
    "from Util.Current import ConstantCurrent\n",
    "from Util.TimeResolution import TimeResolution\n",
    "from Models.LIF import LIF\n",
    "from matplotlib import pyplot as plt\n",
    "import torch\n",
    "from matplotlib import pyplot as plt\n",
    "import numpy as np\n",
    "from Util.Learning import SimpleSTDP\n",
    "from Util.Axon import NeuronAxon\n",
    "from Util.Specs import SpikeTrace\n",
    "from Util.Input import InputBehavior"
   ]
  },
  {
   "cell_type": "markdown",
   "metadata": {},
   "source": [
    "## Set Seeds"
   ]
  },
  {
   "cell_type": "code",
   "execution_count": 3,
   "metadata": {},
   "outputs": [],
   "source": [
    "seed = 2020\n",
    "random.seed(seed)\n",
    "np.random.seed(seed)\n",
    "torch.manual_seed(seed)\n",
    "torch.cuda.manual_seed_all(seed)"
   ]
  },
  {
   "cell_type": "code",
   "execution_count": null,
   "metadata": {},
   "outputs": [],
   "source": [
    "net = Network(behavior={1: TimeResolution(dt=0.01)},\n",
    "              dtype=torch.float64, tag='NET')\n",
    "\n",
    "neuron_model = LIF(\n",
    "    tau=10,\n",
    "    u_rest=-65,\n",
    "    u_reset=-70,\n",
    "    threshold=-40,\n",
    "    R=10,\n",
    "    v_init_mode=\"normal(-40, 10)\",\n",
    ")\n",
    "\n",
    "filtered_image_on_center = Conv2dFilter(filters=DoGFilter(10, 1, 1.5, one_sum=True,\n",
    "                                                          zero_mean=True))((torch.from_numpy(\n",
    "                                                              './data/bird.tif').unsqueeze(0).to(torch.float32))).squeeze(0)\n",
    "\n",
    "input_ayer = NeuronGroup(\n",
    "    size=256 * 256,\n",
    "    net=net,\n",
    "    behavior={\n",
    "        2: InputBehavior(spikes=filtered_image_on_center.flatten() / 256),\n",
    "        5: SpikeTrace(tau_s=10),\n",
    "        6: NeuronAxon(have_trace=True),\n",
    "        10: EventRecorder(\"spike\", tag=\"ng_evrec\"),\n",
    "    },\n",
    "    tag='input_layer'\n",
    ")"
   ]
  }
 ],
 "metadata": {
  "kernelspec": {
   "display_name": "Python 3",
   "language": "python",
   "name": "python3"
  },
  "language_info": {
   "codemirror_mode": {
    "name": "ipython",
    "version": 3
   },
   "file_extension": ".py",
   "mimetype": "text/x-python",
   "name": "python",
   "nbconvert_exporter": "python",
   "pygments_lexer": "ipython3",
   "version": "3.9.6"
  }
 },
 "nbformat": 4,
 "nbformat_minor": 2
}
